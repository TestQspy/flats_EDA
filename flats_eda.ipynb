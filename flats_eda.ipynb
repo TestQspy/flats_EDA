{
 "cells": [
  {
   "cell_type": "code",
   "execution_count": 7,
   "metadata": {},
   "outputs": [],
   "source": [
    "import pandas as pd\n",
    "import numpy as np\n",
    "import matplotlib.pyplot as plt"
   ]
  },
  {
   "cell_type": "code",
   "execution_count": 2,
   "metadata": {},
   "outputs": [],
   "source": [
    "df = pd.read_csv('flats_wroclaw_final.csv')"
   ]
  },
  {
   "cell_type": "code",
   "execution_count": 9,
   "metadata": {},
   "outputs": [
    {
     "data": {
      "text/html": [
       "<div>\n",
       "<style scoped>\n",
       "    .dataframe tbody tr th:only-of-type {\n",
       "        vertical-align: middle;\n",
       "    }\n",
       "\n",
       "    .dataframe tbody tr th {\n",
       "        vertical-align: top;\n",
       "    }\n",
       "\n",
       "    .dataframe thead th {\n",
       "        text-align: right;\n",
       "    }\n",
       "</style>\n",
       "<table border=\"1\" class=\"dataframe\">\n",
       "  <thead>\n",
       "    <tr style=\"text-align: right;\">\n",
       "      <th></th>\n",
       "      <th>room_number</th>\n",
       "      <th>floor_number</th>\n",
       "      <th>floor</th>\n",
       "      <th>prod_year</th>\n",
       "      <th>flat_surface_m2</th>\n",
       "      <th>price_per_m2</th>\n",
       "      <th>price</th>\n",
       "      <th>district</th>\n",
       "      <th>building_type</th>\n",
       "    </tr>\n",
       "  </thead>\n",
       "  <tbody>\n",
       "    <tr>\n",
       "      <td>0</td>\n",
       "      <td>2</td>\n",
       "      <td>7</td>\n",
       "      <td>4</td>\n",
       "      <td>2022</td>\n",
       "      <td>47.85</td>\n",
       "      <td>9592.0</td>\n",
       "      <td>459000.0</td>\n",
       "      <td>Krzyki</td>\n",
       "      <td>blok</td>\n",
       "    </tr>\n",
       "    <tr>\n",
       "      <td>1</td>\n",
       "      <td>4</td>\n",
       "      <td>9</td>\n",
       "      <td>8</td>\n",
       "      <td>2016</td>\n",
       "      <td>212.10</td>\n",
       "      <td>35361.0</td>\n",
       "      <td>7500000.0</td>\n",
       "      <td>Krzyki</td>\n",
       "      <td>blok</td>\n",
       "    </tr>\n",
       "    <tr>\n",
       "      <td>2</td>\n",
       "      <td>5</td>\n",
       "      <td>48</td>\n",
       "      <td>8</td>\n",
       "      <td>2012</td>\n",
       "      <td>227.00</td>\n",
       "      <td>23106.0</td>\n",
       "      <td>5245000.0</td>\n",
       "      <td>Stare Miasto</td>\n",
       "      <td>apartamentowiec</td>\n",
       "    </tr>\n",
       "    <tr>\n",
       "      <td>3</td>\n",
       "      <td>4</td>\n",
       "      <td>48</td>\n",
       "      <td>9</td>\n",
       "      <td>2012</td>\n",
       "      <td>176.50</td>\n",
       "      <td>27195.0</td>\n",
       "      <td>4800000.0</td>\n",
       "      <td>Stare Miasto</td>\n",
       "      <td>apartamentowiec</td>\n",
       "    </tr>\n",
       "    <tr>\n",
       "      <td>4</td>\n",
       "      <td>6</td>\n",
       "      <td>10</td>\n",
       "      <td>9</td>\n",
       "      <td>2021</td>\n",
       "      <td>179.14</td>\n",
       "      <td>20000.0</td>\n",
       "      <td>3582800.0</td>\n",
       "      <td>Krzyki</td>\n",
       "      <td>blok</td>\n",
       "    </tr>\n",
       "  </tbody>\n",
       "</table>\n",
       "</div>"
      ],
      "text/plain": [
       "   room_number  floor_number  floor  prod_year  flat_surface_m2  price_per_m2  \\\n",
       "0            2             7      4       2022            47.85        9592.0   \n",
       "1            4             9      8       2016           212.10       35361.0   \n",
       "2            5            48      8       2012           227.00       23106.0   \n",
       "3            4            48      9       2012           176.50       27195.0   \n",
       "4            6            10      9       2021           179.14       20000.0   \n",
       "\n",
       "       price      district    building_type  \n",
       "0   459000.0        Krzyki             blok  \n",
       "1  7500000.0        Krzyki             blok  \n",
       "2  5245000.0  Stare Miasto  apartamentowiec  \n",
       "3  4800000.0  Stare Miasto  apartamentowiec  \n",
       "4  3582800.0        Krzyki             blok  "
      ]
     },
     "execution_count": 9,
     "metadata": {},
     "output_type": "execute_result"
    }
   ],
   "source": [
    "df.head()"
   ]
  },
  {
   "cell_type": "code",
   "execution_count": 27,
   "metadata": {},
   "outputs": [
    {
     "data": {
      "text/plain": [
       "<matplotlib.axes._subplots.AxesSubplot at 0x1adb46050c8>"
      ]
     },
     "execution_count": 27,
     "metadata": {},
     "output_type": "execute_result"
    },
    {
     "data": {
      "image/png": "[encoded data removed]",
      "text/plain": [
       "<Figure size 432x288 with 1 Axes>"
      ]
     },
     "metadata": {
      "needs_background": "light"
     },
     "output_type": "display_data"
    }
   ],
   "source": [
    "df.district.hist()"
   ]
  },
  {
   "cell_type": "code",
   "execution_count": 36,
   "metadata": {},
   "outputs": [
    {
     "data": {
      "text/plain": [
       "<matplotlib.axes._subplots.AxesSubplot at 0x1adb44b3248>"
      ]
     },
     "execution_count": 36,
     "metadata": {},
     "output_type": "execute_result"
    },
    {
     "data": {
      "image/png": "[encoded data removed]",
      "text/plain": [
       "<Figure size 720x720 with 1 Axes>"
      ]
     },
     "metadata": {
      "needs_background": "light"
     },
     "output_type": "display_data"
    }
   ],
   "source": [
    "df.boxplot(column='price',figsize=(10,10))"
   ]
  }
 ],
 "metadata": {
  "kernelspec": {
   "display_name": "Python 3",
   "language": "python",
   "name": "python3"
  },
  "language_info": {
   "codemirror_mode": {
    "name": "ipython",
    "version": 3
   },
   "file_extension": ".py",
   "mimetype": "text/x-python",
   "name": "python",
   "nbconvert_exporter": "python",
   "pygments_lexer": "ipython3",
   "version": "3.7.4"
  }
 },
 "nbformat": 4,
 "nbformat_minor": 4
}
